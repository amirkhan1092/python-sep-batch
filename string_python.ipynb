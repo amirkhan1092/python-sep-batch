{
 "cells": [
  {
   "cell_type": "code",
   "execution_count": 18,
   "source": [
    "\"\"\"\r\n",
    "Python String: the traditinal way \r\n",
    "\r\n",
    "Sequence of the characters\r\n",
    "\r\n",
    "\"\"\"\r\n",
    "\r\n",
    "\r\n",
    "# st = \"hello world\"  # string initialization \r\n",
    "st = 'hello world ❤'  # string initialization with single quotes \r\n",
    "\r\n",
    "# out = st[-1]  # 'h' or \"h\"  single length string \r\n",
    "print(st, type(st))\r\n"
   ],
   "outputs": [
    {
     "output_type": "stream",
     "name": "stdout",
     "text": [
      "hello world ❤ <class 'str'>\n"
     ]
    }
   ],
   "metadata": {}
  },
  {
   "cell_type": "code",
   "execution_count": 28,
   "source": [
    "st = \"\"\"\r\n",
    "Name:   Amit\r\n",
    "Address:Mathura\r\n",
    "ClassId:100202\r\n",
    "\"\"\"\r\n",
    "\r\n",
    "# \"\\nName:\\tAmit\\nAddress:Mathura\\nClassId:100202\\n\"\r\n",
    "# out = len('\\n')\r\n",
    "print(st, type(st))"
   ],
   "outputs": [
    {
     "output_type": "stream",
     "name": "stdout",
     "text": [
      "\n",
      "Name:   Amit\n",
      "Address:Mathura\n",
      "ClassId:100202\n",
      " <class 'str'>\n"
     ]
    }
   ],
   "metadata": {}
  },
  {
   "cell_type": "code",
   "execution_count": 17,
   "source": [
    "out = chr(1233)  # convert the unicode code to char (single length string)\r\n",
    "print(out, type(out))\r\n",
    "\r\n",
    "# ord()  # convert char to unicode code (Number )"
   ],
   "outputs": [
    {
     "output_type": "stream",
     "name": "stdout",
     "text": [
      "ӑ <class 'str'>\n"
     ]
    }
   ],
   "metadata": {}
  },
  {
   "cell_type": "code",
   "execution_count": 32,
   "source": [
    "# how to initialize the empty string \r\n",
    "\r\n",
    "# st = \"\"  # using string format\r\n",
    "st = str() # using class constructor \r\n",
    "st \r\n",
    "len(st)\r\n",
    "# string as bool data : empty string evaluate the False data in bool\r\n",
    "\r\n",
    "out = bool(st)\r\n",
    "print(out) \r\n",
    "\r\n",
    "\r\n"
   ],
   "outputs": [
    {
     "output_type": "stream",
     "name": "stdout",
     "text": [
      "False\n"
     ]
    }
   ],
   "metadata": {}
  },
  {
   "cell_type": "code",
   "execution_count": 53,
   "source": [
    "# accessing the elements in a string \r\n",
    "\r\n",
    "st = 'Python Programming'\r\n",
    "\r\n",
    "# indexing: value at given position \r\n",
    "out = st[2]  # this will generate the error if position is greater than or equal to the len of string  \r\n",
    "# print(out) \r\n",
    "\r\n",
    "# slicing: values at given range\r\n",
    "out = st[::2]   # 0 2 4 6 8.. len(st)-1\r\n",
    "print(out)\r\n",
    "\r\n"
   ],
   "outputs": [
    {
     "output_type": "stream",
     "name": "stdout",
     "text": [
      "Pto rgamn\n"
     ]
    }
   ],
   "metadata": {}
  },
  {
   "cell_type": "code",
   "execution_count": 57,
   "source": [
    "st = \"koi bhi string\"\r\n",
    "\r\n",
    "out = st[0:6:4]   # 0 4 \r\n",
    "print(out)"
   ],
   "outputs": [
    {
     "output_type": "stream",
     "name": "stdout",
     "text": [
      "kb\n"
     ]
    }
   ],
   "metadata": {}
  },
  {
   "cell_type": "code",
   "execution_count": 59,
   "source": [
    "st = \"hello world\"\r\n",
    "\r\n",
    "out = st[4:1]  # no range \r\n",
    "\r\n",
    "out"
   ],
   "outputs": [
    {
     "output_type": "execute_result",
     "data": {
      "text/plain": [
       "''"
      ]
     },
     "metadata": {},
     "execution_count": 59
    }
   ],
   "metadata": {}
  },
  {
   "cell_type": "code",
   "execution_count": 63,
   "source": [
    "st = \"hello world\"\r\n",
    "\r\n",
    "out = st[::-1]  # reverse the string \r\n",
    "\r\n",
    "out"
   ],
   "outputs": [
    {
     "output_type": "execute_result",
     "data": {
      "text/plain": [
       "''"
      ]
     },
     "metadata": {},
     "execution_count": 63
    }
   ],
   "metadata": {}
  },
  {
   "cell_type": "code",
   "execution_count": 69,
   "source": [
    "# methods in a string \r\n",
    "\r\n",
    "st = 'hello world'\r\n",
    "\r\n",
    "\r\n",
    "# count(substring, start, stop): count the frequency of the pattern\r\n",
    "# out = st.count('lop')\r\n",
    "out = st.count('hello world')  \r\n",
    "print(out)\r\n",
    "\r\n"
   ],
   "outputs": [
    {
     "output_type": "stream",
     "name": "stdout",
     "text": [
      "1\n"
     ]
    }
   ],
   "metadata": {}
  },
  {
   "cell_type": "code",
   "execution_count": 72,
   "source": [
    "# WAP to find the maximum frequency and lowest frequency\r\n",
    "\r\n",
    "st = 'python programming pip'\r\n",
    "mx = st[0]\r\n",
    "ct = 0\r\n",
    "for i in st:\r\n",
    "    tmp = st.count(i)\r\n",
    "    if ct < tmp:\r\n",
    "        ct = tmp\r\n",
    "        mx = i\r\n",
    "print(f\"chararter {mx} and frequency {ct}\")\r\n"
   ],
   "outputs": [
    {
     "output_type": "stream",
     "name": "stdout",
     "text": [
      "chararter m and frequency 7\n"
     ]
    }
   ],
   "metadata": {}
  },
  {
   "cell_type": "code",
   "execution_count": 76,
   "source": [
    "# capitalize(): capitalize the first charater of the string\r\n",
    "\r\n",
    "st = 'hello world'\r\n",
    "out = st.capitalize()\r\n",
    "print(out)"
   ],
   "outputs": [
    {
     "output_type": "stream",
     "name": "stdout",
     "text": [
      "Hello world\n"
     ]
    }
   ],
   "metadata": {}
  },
  {
   "cell_type": "code",
   "execution_count": 77,
   "source": [
    "# title(): capitalize the first char of each word in a given sentence\r\n",
    "\r\n",
    "st = 'hello 4python programming'\r\n",
    "out = st.title()\r\n",
    "print(out)"
   ],
   "outputs": [
    {
     "output_type": "stream",
     "name": "stdout",
     "text": [
      "Hello 4Python Programming\n"
     ]
    }
   ],
   "metadata": {}
  },
  {
   "cell_type": "code",
   "execution_count": 78,
   "source": [
    "# upper(): convert the complete string into upper case \r\n",
    "st = 'hello 4python programming'\r\n",
    "out = st.upper()\r\n",
    "print(out)\r\n"
   ],
   "outputs": [
    {
     "output_type": "stream",
     "name": "stdout",
     "text": [
      "HELLO 4PYTHON PROGRAMMING\n"
     ]
    }
   ],
   "metadata": {}
  },
  {
   "cell_type": "code",
   "execution_count": 81,
   "source": [
    "# centre(): set the string with fill characters\r\n",
    "\r\n",
    "st = 'Ankit'\r\n",
    "\r\n",
    "out = st.center(20, '*')\r\n",
    "print(out)"
   ],
   "outputs": [
    {
     "output_type": "stream",
     "name": "stdout",
     "text": [
      "*******Ankit********\n"
     ]
    }
   ],
   "metadata": {}
  },
  {
   "cell_type": "code",
   "execution_count": 82,
   "source": [
    "st = 'Ankit'\r\n",
    "out = st.ljust(10, '*')\r\n",
    "print(out)"
   ],
   "outputs": [
    {
     "output_type": "stream",
     "name": "stdout",
     "text": [
      "Ankit*****\n"
     ]
    }
   ],
   "metadata": {}
  },
  {
   "cell_type": "code",
   "execution_count": 92,
   "source": [
    "st = '-21029319329'\r\n",
    "out = st.rjust(20, '*')\r\n",
    "print(out)"
   ],
   "outputs": [
    {
     "output_type": "stream",
     "name": "stdout",
     "text": [
      "********-21029319329\n"
     ]
    }
   ],
   "metadata": {}
  },
  {
   "cell_type": "code",
   "execution_count": 88,
   "source": [
    "st = '-1020'\r\n",
    "out = st.zfill(10)\r\n",
    "print(out)"
   ],
   "outputs": [
    {
     "output_type": "stream",
     "name": "stdout",
     "text": [
      "-000001020\n"
     ]
    }
   ],
   "metadata": {}
  },
  {
   "cell_type": "code",
   "execution_count": 8,
   "source": [
    "# encodind and decoding the string \r\n",
    "st = 'hello ❤'\r\n",
    "out = st.encode('ascii', errors='replace')\r\n",
    "print(out, type(out))\r\n",
    "\r\n",
    "\r\n"
   ],
   "outputs": [
    {
     "output_type": "stream",
     "name": "stdout",
     "text": [
      "b'hello ?' <class 'bytes'>\n"
     ]
    }
   ],
   "metadata": {}
  },
  {
   "cell_type": "code",
   "execution_count": 25,
   "source": [
    "x = 'hello world'\r\n",
    "t = list(x)\r\n",
    "\r\n",
    "# print(t)\r\n",
    "del t[0]\r\n",
    "t[3] = 'p'\r\n",
    "x = ''.join(t)\r\n",
    "print(x)"
   ],
   "outputs": [
    {
     "output_type": "stream",
     "name": "stdout",
     "text": [
      "ellp world\n"
     ]
    }
   ],
   "metadata": {}
  },
  {
   "cell_type": "code",
   "execution_count": 33,
   "source": [
    "\r\n",
    "st = '12 44 66 98 08'\r\n",
    "out = st.split(' ')\r\n",
    "\r\n",
    "res = '\\n'.join(out)\r\n",
    "print(res, type(res))\r\n"
   ],
   "outputs": [
    {
     "output_type": "stream",
     "name": "stdout",
     "text": [
      "12\n",
      "44\n",
      "66\n",
      "98\n",
      "08 <class 'str'>\n"
     ]
    }
   ],
   "metadata": {}
  },
  {
   "cell_type": "code",
   "execution_count": 40,
   "source": [
    "\"find the frequency of each characters\"\r\n",
    "\r\n",
    "st = input(\"Enter the string \")\r\n",
    "res = ''\r\n",
    "lst = []\r\n",
    "for i in st:\r\n",
    "    if i not in res: \r\n",
    "        lst.append((i, st.count(i)))\r\n",
    "        res += i\r\n",
    "print(lst)\r\n"
   ],
   "outputs": [],
   "metadata": {}
  },
  {
   "cell_type": "code",
   "execution_count": 38,
   "source": [
    "st = 'hello'\r\n",
    "'o' not in st"
   ],
   "outputs": [
    {
     "output_type": "execute_result",
     "data": {
      "text/plain": [
       "False"
      ]
     },
     "metadata": {},
     "execution_count": 38
    }
   ],
   "metadata": {}
  }
 ],
 "metadata": {
  "orig_nbformat": 4,
  "language_info": {
   "name": "python",
   "version": "3.7.2",
   "mimetype": "text/x-python",
   "codemirror_mode": {
    "name": "ipython",
    "version": 3
   },
   "pygments_lexer": "ipython3",
   "nbconvert_exporter": "python",
   "file_extension": ".py"
  },
  "kernelspec": {
   "name": "python3",
   "display_name": "Python 3.7.2 32-bit"
  },
  "interpreter": {
   "hash": "8786318122129ba10eb40c9c8a2ede770fe6a9df50dfcd3c6edc33520e4c5279"
  }
 },
 "nbformat": 4,
 "nbformat_minor": 2
}