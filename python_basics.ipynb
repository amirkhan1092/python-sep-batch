{
 "cells": [
  {
   "cell_type": "code",
   "execution_count": 7,
   "source": [
    "\"\"\"\r\n",
    "Python is an interpreted, object-oriented, high-level programming language with dynamic semantics. \r\n",
    "Its high-level built in data structures, combined with dynamic typing and dynamic binding, make it very attractive \r\n",
    "for Rapid Application Development\r\n",
    "\r\n",
    "\r\n",
    "Algorithm + Data Structure ==> Programming \r\n",
    "\r\n",
    "\r\n",
    "\r\n",
    "1. Data Types  \r\n",
    "    1. number \r\n",
    "        int, float, complex\r\n",
    "\r\n",
    "\r\n",
    "\"\"\"\r\n",
    "# sum of two number \r\n",
    "\r\n",
    "num1 = 34\r\n",
    "num2 = 66\r\n",
    "\r\n",
    "Sum = num1 + num2\r\n",
    "\r\n",
    "if Sum > 100:\r\n",
    "    print(\"result is greater than 100\")\r\n",
    "elif Sum == 100:\r\n",
    "    print(\"Result is equal to 100\")    \r\n",
    "else:\r\n",
    "    print(\"result is less than 100\")    \r\n",
    "\r\n",
    "print(\"Sum of two number is\", Sum)\r\n",
    "\r\n",
    "\r\n",
    "\r\n",
    "# check weather given number is negative or positive \r\n",
    "\r\n",
    "# if 'condition':\r\n",
    "#     print('If block')\r\n",
    "# else:\r\n",
    "#     print('else block')    \r\n",
    "    \r\n",
    "\r\n",
    "\r\n"
   ],
   "outputs": [
    {
     "output_type": "stream",
     "name": "stdout",
     "text": [
      "Result is equal to 100\n",
      "Sum of two number is 100\n"
     ]
    }
   ],
   "metadata": {}
  },
  {
   "cell_type": "code",
   "execution_count": 9,
   "source": [
    "# check weather given number is negative or positive \"\"\"\r\n",
    "\r\n",
    "num = -89.09\r\n",
    "if num < 0:\r\n",
    "    print(\"Number is negative \")  # num < 0\r\n",
    "elif num > 0:    \r\n",
    "    print(\"Number is positive \")\r\n",
    "else: \r\n",
    "    print(\"Number is zero \")\r\n"
   ],
   "outputs": [
    {
     "output_type": "stream",
     "name": "stdout",
     "text": [
      "Number is negative \n"
     ]
    }
   ],
   "metadata": {}
  },
  {
   "cell_type": "code",
   "execution_count": 12,
   "source": [
    "\"\"\"\r\n",
    "temp alert \r\n",
    "\"\"\"\r\n",
    "\r\n",
    "tmp = int(input(\"Enter the temperature \"))\r\n",
    "print(\"Process start \")\r\n",
    "\r\n",
    "if tmp > 50:\r\n",
    "    print(\"Hight temp alert \")\r\n",
    "print(\"Process stop \")    \r\n",
    "\r\n",
    "\r\n",
    "\r\n"
   ],
   "outputs": [
    {
     "output_type": "stream",
     "name": "stdout",
     "text": [
      "Process start \n",
      "Hight temp alert \n",
      "Process stop \n"
     ]
    }
   ],
   "metadata": {}
  },
  {
   "cell_type": "code",
   "execution_count": 17,
   "source": [
    "\". WAP to find area of a Circle\"\r\n",
    "\r\n",
    "\r\n",
    "r = int(input('Enter the radius '))\r\n",
    "\r\n",
    "area = 3.14 * r ** 2   # pi*r**2\r\n",
    "\r\n",
    "print(\"Area of circle \", area)\r\n",
    "\r\n",
    "\r\n",
    "\r\n",
    "\r\n",
    "\r\n"
   ],
   "outputs": [
    {
     "output_type": "stream",
     "name": "stdout",
     "text": [
      "Area of circle  314.0\n"
     ]
    }
   ],
   "metadata": {}
  },
  {
   "cell_type": "code",
   "execution_count": 23,
   "source": [
    "\" WAP to find perimeter of a Rectangle.\"\r\n",
    "\r\n",
    "l = int(input(\"Enter the length \"))\r\n",
    "b = int(input('Enter the width '))\r\n",
    "\r\n",
    "per = 2 * (l + b)\r\n",
    "per = 23.54\r\n",
    "print(f\"perimeter of rectangle is {per} with length {l} and width {b}\")\r\n"
   ],
   "outputs": [
    {
     "output_type": "stream",
     "name": "stdout",
     "text": [
      "perimeter of rectangle is 23.54 with length 2 and width 5\n"
     ]
    }
   ],
   "metadata": {}
  }
 ],
 "metadata": {
  "orig_nbformat": 4,
  "language_info": {
   "name": "python",
   "version": "3.7.2",
   "mimetype": "text/x-python",
   "codemirror_mode": {
    "name": "ipython",
    "version": 3
   },
   "pygments_lexer": "ipython3",
   "nbconvert_exporter": "python",
   "file_extension": ".py"
  },
  "kernelspec": {
   "name": "python3",
   "display_name": "Python 3.7.2 32-bit"
  },
  "interpreter": {
   "hash": "8786318122129ba10eb40c9c8a2ede770fe6a9df50dfcd3c6edc33520e4c5279"
  }
 },
 "nbformat": 4,
 "nbformat_minor": 2
}