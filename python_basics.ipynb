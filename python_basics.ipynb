{
 "cells": [
  {
   "cell_type": "code",
   "execution_count": 1,
   "source": [
    "\"\"\"\r\n",
    "Python is an interpreted, object-oriented, high-level programming language with dynamic semantics. \r\n",
    "Its high-level built in data structures, combined with dynamic typing and dynamic binding, make it very attractive \r\n",
    "for Rapid Application Development\r\n",
    "\r\n",
    "\r\n",
    "Algorithm + Data Structure ==> Programming \r\n",
    "\r\n",
    "\r\n",
    "\r\n",
    "1. Data Types  \r\n",
    "    1. number \r\n",
    "        int, float, complex\r\n",
    "\r\n",
    "\r\n",
    "\"\"\"\r\n",
    "# sum of two number \r\n",
    "\r\n",
    "num1 = 34\r\n",
    "num2 = 66\r\n",
    "\r\n",
    "Sum = num1 + num2\r\n",
    "\r\n",
    "if Sum > 100:\r\n",
    "    print(\"result is greater than 100\")\r\n",
    "elif Sum == 100:\r\n",
    "    print(\"Result is equal to 100\")    \r\n",
    "else:\r\n",
    "    print(\"result is less than 100\")    \r\n",
    "\r\n",
    "print(\"Sum of two number is\", Sum)\r\n",
    "\r\n",
    "\r\n",
    "\r\n",
    "# check weather given number is negative or positive \r\n",
    "\r\n",
    "# if 'condition':\r\n",
    "#     print('If block')\r\n",
    "# else:\r\n",
    "#     print('else block')    \r\n",
    "    \r\n",
    "\r\n",
    "\r\n"
   ],
   "outputs": [
    {
     "output_type": "stream",
     "name": "stdout",
     "text": [
      "Result is equal to 100\n",
      "Sum of two number is 100\n"
     ]
    }
   ],
   "metadata": {}
  },
  {
   "cell_type": "code",
   "execution_count": 2,
   "source": [
    "# check weather given number is negative or positive \"\"\"\r\n",
    "\r\n",
    "num = -89.09\r\n",
    "if num < 0:\r\n",
    "    print(\"Number is negative \")  # num < 0\r\n",
    "elif num > 0:    \r\n",
    "    print(\"Number is positive \")\r\n",
    "else: \r\n",
    "    print(\"Number is zero \")\r\n"
   ],
   "outputs": [
    {
     "output_type": "stream",
     "name": "stdout",
     "text": [
      "Number is negative \n"
     ]
    }
   ],
   "metadata": {}
  },
  {
   "cell_type": "code",
   "execution_count": 3,
   "source": [
    "\"\"\"\r\n",
    "temp alert \r\n",
    "\"\"\"\r\n",
    "\r\n",
    "tmp = int(input(\"Enter the temperature \"))\r\n",
    "print(\"Process start \")\r\n",
    "\r\n",
    "if tmp > 50:\r\n",
    "    print(\"Hight temp alert \")\r\n",
    "print(\"Process stop \")    \r\n",
    "\r\n",
    "\r\n",
    "\r\n"
   ],
   "outputs": [
    {
     "output_type": "stream",
     "name": "stdout",
     "text": [
      "Process start \n",
      "Process stop \n"
     ]
    }
   ],
   "metadata": {}
  },
  {
   "cell_type": "code",
   "execution_count": 4,
   "source": [
    "\". WAP to find area of a Circle\"\r\n",
    "\r\n",
    "\r\n",
    "r = int(input('Enter the radius '))\r\n",
    "\r\n",
    "area = 3.14 * r ** 2   # pi*r**2\r\n",
    "\r\n",
    "print(\"Area of circle \", area)\r\n",
    "\r\n",
    "\r\n",
    "\r\n",
    "\r\n",
    "\r\n"
   ],
   "outputs": [
    {
     "output_type": "stream",
     "name": "stdout",
     "text": [
      "Area of circle  28.26\n"
     ]
    }
   ],
   "metadata": {}
  },
  {
   "cell_type": "code",
   "execution_count": 5,
   "source": [
    "\" WAP to find perimeter of a Rectangle.\"\r\n",
    "\r\n",
    "l = int(input(\"Enter the length \"))\r\n",
    "b = int(input('Enter the width '))\r\n",
    "\r\n",
    "per = 2 * (l + b)\r\n",
    "per = 23.54\r\n",
    "print(f\"perimeter of rectangle is {per} with length {l} and width {b}\")\r\n"
   ],
   "outputs": [
    {
     "output_type": "error",
     "ename": "ValueError",
     "evalue": "invalid literal for int() with base 10: ''",
     "traceback": [
      "\u001b[1;31m---------------------------------------------------------------------------\u001b[0m",
      "\u001b[1;31mValueError\u001b[0m                                Traceback (most recent call last)",
      "\u001b[1;32m<ipython-input-5-3dec6ad1295c>\u001b[0m in \u001b[0;36m<module>\u001b[1;34m\u001b[0m\n\u001b[0;32m      2\u001b[0m \u001b[1;33m\u001b[0m\u001b[0m\n\u001b[0;32m      3\u001b[0m \u001b[0ml\u001b[0m \u001b[1;33m=\u001b[0m \u001b[0mint\u001b[0m\u001b[1;33m(\u001b[0m\u001b[0minput\u001b[0m\u001b[1;33m(\u001b[0m\u001b[1;34m\"Enter the length \"\u001b[0m\u001b[1;33m)\u001b[0m\u001b[1;33m)\u001b[0m\u001b[1;33m\u001b[0m\u001b[1;33m\u001b[0m\u001b[0m\n\u001b[1;32m----> 4\u001b[1;33m \u001b[0mb\u001b[0m \u001b[1;33m=\u001b[0m \u001b[0mint\u001b[0m\u001b[1;33m(\u001b[0m\u001b[0minput\u001b[0m\u001b[1;33m(\u001b[0m\u001b[1;34m'Enter the width '\u001b[0m\u001b[1;33m)\u001b[0m\u001b[1;33m)\u001b[0m\u001b[1;33m\u001b[0m\u001b[1;33m\u001b[0m\u001b[0m\n\u001b[0m\u001b[0;32m      5\u001b[0m \u001b[1;33m\u001b[0m\u001b[0m\n\u001b[0;32m      6\u001b[0m \u001b[0mper\u001b[0m \u001b[1;33m=\u001b[0m \u001b[1;36m2\u001b[0m \u001b[1;33m*\u001b[0m \u001b[1;33m(\u001b[0m\u001b[0ml\u001b[0m \u001b[1;33m+\u001b[0m \u001b[0mb\u001b[0m\u001b[1;33m)\u001b[0m\u001b[1;33m\u001b[0m\u001b[1;33m\u001b[0m\u001b[0m\n",
      "\u001b[1;31mValueError\u001b[0m: invalid literal for int() with base 10: ''"
     ]
    }
   ],
   "metadata": {}
  },
  {
   "cell_type": "code",
   "execution_count": null,
   "source": [
    "\"\"\"WAP to find the Simple Interest and the total amount when the Principal, Rate of Interest and Time \r\n",
    "are entered by the user\"\"\"\r\n",
    "p=int(input('enter the principal amount'))\r\n",
    "r=int(input ('enter the rate of interest'))\r\n",
    "t=int(input ('enter the time '))\r\n",
    "SI=p*r*t/100\r\n",
    "Amount=p+SI\r\n",
    "print(f\"Simple intrest is {SI}\")\r\n",
    "print(f\"Amount is {Amount}\")"
   ],
   "outputs": [
    {
     "output_type": "stream",
     "name": "stdout",
     "text": [
      "Simple intrest is 50.0\n",
      "Amount is 150.0\n"
     ]
    }
   ],
   "metadata": {}
  },
  {
   "cell_type": "code",
   "execution_count": null,
   "source": [
    "# water tank problem \r\n",
    "F = 15\r\n",
    "h = 10\r\n",
    "r = 5\r\n",
    "Vtank = 3.14 * r ** 2 * h\r\n",
    "\r\n",
    "t = int(input('Enter the time '))\r\n",
    "\r\n",
    "Vwtr = F * t\r\n",
    "\r\n",
    "if Vtank > Vwtr :\r\n",
    "    print(\"Underflow condition \")\r\n",
    "    ht = Vwtr / (3.14 * r ** 2)\r\n",
    "    hr = h - ht\r\n",
    "    print(f\"Filled height {ht} and remaining height {hr}\")\r\n",
    "elif Vtank < Vwtr:\r\n",
    "    print(\"overflow condition\")\r\n",
    "    print(f\"volume of {Vwtr - Vtank}\")\r\n",
    "else:\r\n",
    "    print(\"tank full\")      \r\n",
    "\r\n",
    "\r\n",
    "\r\n",
    "\r\n"
   ],
   "outputs": [
    {
     "output_type": "stream",
     "name": "stdout",
     "text": [
      "overflow condition\n",
      "volume of 115.0\n"
     ]
    }
   ],
   "metadata": {}
  },
  {
   "cell_type": "code",
   "execution_count": null,
   "source": [
    "\"Write a program to find greatest of three numbers\"\r\n",
    "# if else in a singal line (ternary feature in python) : dont use the colon(:) \r\n",
    "a, b, f = 21, 53, 79\r\n",
    "\r\n",
    "# c = a if f <= a >= b else b if f <= b >= a else f \r\n",
    "\r\n",
    "if f <= a >= b:\r\n",
    "    c = a\r\n",
    "elif  f <= b >= a:\r\n",
    "    c = b\r\n",
    "else:\r\n",
    "    c = f       \r\n",
    "\r\n",
    "print(f'Greater number {c}')\r\n",
    "\r\n"
   ],
   "outputs": [
    {
     "output_type": "stream",
     "name": "stdout",
     "text": [
      "Greater number 79\n"
     ]
    }
   ],
   "metadata": {}
  },
  {
   "cell_type": "code",
   "execution_count": null,
   "source": [
    "\r\n",
    "# Import libraries\r\n",
    "from matplotlib import pyplot as plt\r\n",
    "import numpy as np\r\n",
    "  \r\n",
    "  \r\n",
    "# Creating dataset\r\n",
    "cars = ['Hackerrank', 'dss', 'FORD',\r\n",
    "        'TESLA', 'JAGUAR', 'MERCEDES']\r\n",
    "  \r\n",
    "data = [23, 17, 35, 29, 12, 41]\r\n",
    "  \r\n",
    "# Creating plot\r\n",
    "fig = plt.figure(figsize =(10, 7))\r\n",
    "plt.bar(data)\r\n",
    "  \r\n",
    "# show plot\r\n",
    "plt.show()"
   ],
   "outputs": [],
   "metadata": {}
  },
  {
   "cell_type": "code",
   "execution_count": 8,
   "source": [
    "# for loop\r\n",
    "\r\n",
    "\r\n",
    "# 1. else part of the for loop \r\n",
    "\r\n",
    "num = int(input(\"Enter the number \"))\r\n",
    "for i in range(2, num):\r\n",
    "    if num % i == 0:\r\n",
    "        print(\"Not a prime number \")\r\n",
    "        break\r\n",
    "else:\r\n",
    "    print(f\"number {num} is prime number \")\r\n",
    "\r\n"
   ],
   "outputs": [
    {
     "output_type": "stream",
     "name": "stdout",
     "text": [
      "number 7 is prime number \n"
     ]
    }
   ],
   "metadata": {}
  },
  {
   "cell_type": "code",
   "execution_count": 10,
   "source": [
    "\r\n",
    "temp = 20\r\n",
    "while temp < 50:\r\n",
    "    print(\"temperature is ok \")\r\n",
    "    temp = int(input(\"Enter the temparature \"))\r\n",
    "    if temp >= 100:\r\n",
    "        print(\"System shut down \")\r\n",
    "        break\r\n",
    "else:\r\n",
    "    print(\"High temperature alert!\")    "
   ],
   "outputs": [
    {
     "output_type": "stream",
     "name": "stdout",
     "text": [
      "temperature is ok \n",
      "temperature is ok \n",
      "System shut down \n"
     ]
    }
   ],
   "metadata": {}
  },
  {
   "cell_type": "code",
   "execution_count": 29,
   "source": [
    "# pattern display \r\n",
    "\r\n",
    "\"\"\"\r\n",
    "        *\r\n",
    "      *   *\r\n",
    "    *       *\r\n",
    "  *           * \r\n",
    "* * * * * * * * * \r\n",
    "\r\n",
    "\"\"\"\r\n",
    "# lines = int(input(\"Enter the lines \"))\r\n",
    "\r\n",
    "# # lines = 5\r\n",
    "# for i in range(lines):\r\n",
    "#      print(\"* \" * (i+1))\r\n",
    "\r\n",
    "\r\n",
    "\r\n",
    "lines = 10\r\n",
    "\r\n",
    "\r\n",
    "# for i in range(1, lines+1):\r\n",
    "#     print(\" \"*(lines-i) +\"*\"*(2*i-1))\r\n",
    "    \r\n",
    "k = 0\r\n",
    "for i in range(1, lines+1):\r\n",
    "    for j in range(1, lines+1-i):\r\n",
    "        print(\" \", end='')\r\n",
    "    \r\n",
    "    while (2 * i - 1) != k:\r\n",
    "        if k == 0 or k == 2*i-2 or i == lines-3:\r\n",
    "            print(\"*\", end='') \r\n",
    "        else:\r\n",
    "            print(\" \", end='')    \r\n",
    "        k += 1\r\n",
    "\r\n",
    "    print(\"\")  \r\n",
    "    k = 0  \r\n",
    "\r\n",
    "\r\n",
    "\r\n",
    "\r\n",
    "\r\n"
   ],
   "outputs": [
    {
     "output_type": "stream",
     "name": "stdout",
     "text": [
      "         *\n",
      "        * *\n",
      "       *   *\n",
      "      *     *\n",
      "     *       *\n",
      "    *         *\n",
      "   *************\n",
      "  *             *\n",
      " *               *\n",
      "*                 *\n"
     ]
    }
   ],
   "metadata": {}
  },
  {
   "cell_type": "code",
   "execution_count": 49,
   "source": [
    "\"\"\"\r\n",
    "WAP to display the Alphabet pyramid \r\n",
    "    A\r\n",
    "  B C\r\n",
    "D E F\r\n",
    "\r\n",
    "\r\n",
    " \r\n",
    "\r\n",
    "\"\"\"\r\n",
    "\r\n",
    "# lines = int(input(\"Enter the lines \"))\r\n",
    "# count = 65\r\n",
    "# for i in range(1, lines+1):\r\n",
    "#     print(\" \"*(lines-i), end='')\r\n",
    "#     for j in range(1, i+1):\r\n",
    "#         print(chr(count), end=' ')\r\n",
    "#         count += 1\r\n",
    "#     print()\r\n",
    "\r\n",
    "\r\n",
    "\r\n",
    "# print(\"Hello\")\r\n",
    "# print()\r\n",
    "# print()\r\n",
    "# print(\"World\")\r\n",
    "\r\n",
    "num = 10\r\n",
    "out = bin(num)\r\n",
    "print(out[2:])\r\n",
    "\r\n"
   ],
   "outputs": [
    {
     "output_type": "stream",
     "name": "stdout",
     "text": [
      "1010 <class 'str'>\n"
     ]
    }
   ],
   "metadata": {}
  }
 ],
 "metadata": {
  "orig_nbformat": 4,
  "language_info": {
   "name": "python",
   "version": "3.7.2",
   "mimetype": "text/x-python",
   "codemirror_mode": {
    "name": "ipython",
    "version": 3
   },
   "pygments_lexer": "ipython3",
   "nbconvert_exporter": "python",
   "file_extension": ".py"
  },
  "kernelspec": {
   "name": "python3",
   "display_name": "Python 3.7.2 32-bit"
  },
  "interpreter": {
   "hash": "8786318122129ba10eb40c9c8a2ede770fe6a9df50dfcd3c6edc33520e4c5279"
  }
 },
 "nbformat": 4,
 "nbformat_minor": 2
}