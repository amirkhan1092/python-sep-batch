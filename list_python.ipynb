{
 "cells": [
  {
   "cell_type": "code",
   "execution_count": 1,
   "source": [
    "\"\"\"\r\n",
    "List is the collection or sequence of items and enclose within the square brackets\r\n",
    "list is mutable in nature and ordered collection\r\n",
    "\"\"\"\r\n",
    "# how to initialize the list\r\n",
    "\r\n",
    "lst = ['Ravi', 'Amrit', 8.54, 'Mathura', 21]\r\n",
    "\r\n",
    "print(lst, type(lst))\r\n",
    "\r\n",
    "# empty list \r\n",
    "lst = []  # list format\r\n",
    "lst = list()  # class list constructors\r\n",
    "\r\n"
   ],
   "outputs": [
    {
     "output_type": "stream",
     "name": "stdout",
     "text": [
      "['Ravi', 'Amrit', 8.54, 'Mathura', 21] <class 'list'>\n"
     ]
    }
   ],
   "metadata": {}
  },
  {
   "cell_type": "code",
   "execution_count": 7,
   "source": [
    "# how to access the elements in a list\r\n",
    "lst = ['Ravi', 'Amrit', 8.54, 'Mathura', 21]\r\n",
    "out = lst[3]   # indexing \r\n",
    "\r\n",
    "print(out, len(out), type(out))"
   ],
   "outputs": [
    {
     "output_type": "stream",
     "name": "stdout",
     "text": [
      "Mathura 7 <class 'str'>\n"
     ]
    }
   ],
   "metadata": {}
  },
  {
   "cell_type": "code",
   "execution_count": 15,
   "source": [
    "# methods in a string \r\n",
    "\r\n",
    "# remove\r\n",
    "lst = ['Ravi', 'Amrit', 8.54, 'Mathura', 21]\r\n",
    "\r\n",
    "lst.remove('Mathura')\r\n",
    "\r\n",
    "print(lst)\r\n",
    "\r\n",
    "\r\n"
   ],
   "outputs": [
    {
     "output_type": "error",
     "ename": "ValueError",
     "evalue": "list.remove(x): x not in list",
     "traceback": [
      "\u001b[1;31m---------------------------------------------------------------------------\u001b[0m",
      "\u001b[1;31mValueError\u001b[0m                                Traceback (most recent call last)",
      "\u001b[1;32m<ipython-input-15-d88b8eee81ab>\u001b[0m in \u001b[0;36m<module>\u001b[1;34m\u001b[0m\n\u001b[0;32m      4\u001b[0m \u001b[0mlst\u001b[0m \u001b[1;33m=\u001b[0m \u001b[1;33m[\u001b[0m\u001b[1;34m'Ravi'\u001b[0m\u001b[1;33m,\u001b[0m \u001b[1;34m'Amrit'\u001b[0m\u001b[1;33m,\u001b[0m \u001b[1;36m8.54\u001b[0m\u001b[1;33m,\u001b[0m \u001b[1;34m'Mathura'\u001b[0m\u001b[1;33m,\u001b[0m \u001b[1;36m21\u001b[0m\u001b[1;33m]\u001b[0m\u001b[1;33m\u001b[0m\u001b[1;33m\u001b[0m\u001b[0m\n\u001b[0;32m      5\u001b[0m \u001b[1;33m\u001b[0m\u001b[0m\n\u001b[1;32m----> 6\u001b[1;33m \u001b[0mlst\u001b[0m\u001b[1;33m.\u001b[0m\u001b[0mremove\u001b[0m\u001b[1;33m(\u001b[0m\u001b[1;34m'Mathur'\u001b[0m\u001b[1;33m)\u001b[0m\u001b[1;33m\u001b[0m\u001b[1;33m\u001b[0m\u001b[0m\n\u001b[0m\u001b[0;32m      7\u001b[0m \u001b[1;33m\u001b[0m\u001b[0m\n\u001b[0;32m      8\u001b[0m \u001b[0mprint\u001b[0m\u001b[1;33m(\u001b[0m\u001b[0mlst\u001b[0m\u001b[1;33m)\u001b[0m\u001b[1;33m\u001b[0m\u001b[1;33m\u001b[0m\u001b[0m\n",
      "\u001b[1;31mValueError\u001b[0m: list.remove(x): x not in list"
     ]
    }
   ],
   "metadata": {}
  },
  {
   "cell_type": "code",
   "execution_count": null,
   "source": [],
   "outputs": [],
   "metadata": {}
  },
  {
   "cell_type": "code",
   "execution_count": 14,
   "source": [
    "# pop() : remove the elements by Index position \r\n",
    "\r\n",
    "lst = ['Ravi', 'Amrit', 8.54, 'Mathura', 21]\r\n",
    "out = lst.pop(0)\r\n",
    "print(out, 'removed ')\r\n",
    "out = lst.pop(0)\r\n",
    "print(out, 'removed ')\r\n",
    "print(lst)"
   ],
   "outputs": [
    {
     "output_type": "stream",
     "name": "stdout",
     "text": [
      "Ravi removed \n",
      "Amrit removed \n",
      "[8.54, 'Mathura', 21]\n"
     ]
    }
   ],
   "metadata": {}
  },
  {
   "cell_type": "code",
   "execution_count": 18,
   "source": [
    "\"\"\"\r\n",
    "Create a program that will keep track of items for a shopping list. The program should keep asking for new \r\n",
    "items until nothing is entered (no input followed by enter/return key). The program should then display \r\n",
    "the full shopping list.\r\n",
    "\r\n",
    "\"\"\"\r\n",
    "\r\n",
    "print(\"Enter the shopping items \")\r\n",
    "sl = []\r\n",
    "rp = 0\r\n",
    "while True:\r\n",
    "    itm, price = input(f\"Enter the item price (budget remaining {500-rp}) \").split()\r\n",
    "    rp += int(price)\r\n",
    "    if itm == '' or rp > 500:\r\n",
    "        break\r\n",
    "    sl.append((itm, price))\r\n",
    "\r\n",
    "print(\"Updated shopping list\", sl)\r\n"
   ],
   "outputs": [
    {
     "output_type": "stream",
     "name": "stdout",
     "text": [
      "Enter the shopping items \n",
      "Updated shopping list [('mobile', '200'), ('veg', '100'), ('nonveg', '100')]\n"
     ]
    }
   ],
   "metadata": {}
  },
  {
   "cell_type": "code",
   "execution_count": 7,
   "source": [
    "lst = '2 4 5 6'.split()  # ['2', '4', '5', '6']\r\n",
    "lst2 = list(map(int, lst))\r\n",
    "\r\n",
    "print(lst)\r\n",
    "print(lst2)\r\n"
   ],
   "outputs": [
    {
     "output_type": "stream",
     "name": "stdout",
     "text": [
      "['2', '4', '5', '6']\n",
      "[2, 4, 5, 6]\n"
     ]
    }
   ],
   "metadata": {}
  }
 ],
 "metadata": {
  "orig_nbformat": 4,
  "language_info": {
   "name": "python",
   "version": "3.7.2",
   "mimetype": "text/x-python",
   "codemirror_mode": {
    "name": "ipython",
    "version": 3
   },
   "pygments_lexer": "ipython3",
   "nbconvert_exporter": "python",
   "file_extension": ".py"
  },
  "kernelspec": {
   "name": "python3",
   "display_name": "Python 3.7.2 32-bit"
  },
  "interpreter": {
   "hash": "8786318122129ba10eb40c9c8a2ede770fe6a9df50dfcd3c6edc33520e4c5279"
  }
 },
 "nbformat": 4,
 "nbformat_minor": 2
}