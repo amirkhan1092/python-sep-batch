{
 "cells": [
  {
   "cell_type": "markdown",
   "id": "11ebac47",
   "metadata": {},
   "source": [
    "Upload and combine"
   ]
  },
  {
   "cell_type": "code",
   "execution_count": 52,
   "id": "d8cfe63d",
   "metadata": {},
   "outputs": [],
   "source": [
    "import pandas as pd\n",
    "\n",
    "#change list.txt file name as needed\n",
    "df = pd.read_csv('GSE47960_series_matrix.txt ', delimiter = \"\\t\")\n",
    "dftotalrows = df[df.columns[0]].count()\n",
    "\n",
    "#change list.txt file name as needed\n",
    "df2 = pd.read_csv('GPL6480-9577.txt ', delimiter = \"\\t\")\n",
    "df2totalrows = df2[df2.columns[0]].count()\n",
    "\n",
    "df3 = pd.DataFrame()"
   ]
  },
  {
   "cell_type": "markdown",
   "id": "b034c0ec",
   "metadata": {},
   "source": [
    "gene index"
   ]
  },
  {
   "cell_type": "code",
   "execution_count": 53,
   "id": "5b64de5d",
   "metadata": {},
   "outputs": [],
   "source": [
    "df2rownum = 0\n",
    "platformgenelist = []\n",
    "\n",
    "while df2rownum < df2totalrows:\n",
    "    temprow = df2.iloc[df2rownum].to_numpy()\n",
    "    tempgene = temprow[0]\n",
    "    platformgenelist.append(tempgene)\n",
    "    df2rownum = df2rownum + 1"
   ]
  },
  {
   "cell_type": "markdown",
   "id": "f8ceb182",
   "metadata": {},
   "source": [
    "Gene index and platefarm"
   ]
  },
  {
   "cell_type": "code",
   "execution_count": 54,
   "id": "2dc65f75",
   "metadata": {},
   "outputs": [],
   "source": [
    "import numpy as np\n",
    "\n",
    "tempnum = 0\n",
    "while tempnum < df2totalrows:\n",
    "    temparray = df.iloc[tempnum].to_numpy()\n",
    "    geneID = temparray[0]\n",
    "    \n",
    "    index = platformgenelist.index(geneID)    \n",
    "    temparray2 = df2.iloc[index].to_numpy()\n",
    "    geneID2 = temparray2[0]\n",
    "    tempseries = pd.Series(temparray2, name = geneID2)\n",
    "    df3 = df3.append(tempseries)\n",
    "    \n",
    "    tempnum = tempnum + 1"
   ]
  },
  {
   "cell_type": "markdown",
   "id": "99befec4",
   "metadata": {},
   "source": [
    "save new one"
   ]
  },
  {
   "cell_type": "code",
   "execution_count": 55,
   "id": "ef44eb48",
   "metadata": {},
   "outputs": [
    {
     "name": "stdout",
     "output_type": "stream",
     "text": [
      "DONE!\n"
     ]
    }
   ],
   "source": [
    "df3_header = df2.head(0)\n",
    "df3_header = pd.DataFrame(data=df2.values,columns = df2.columns)\n",
    "\n",
    "df3_header.to_csv('GPL6480-9577platfarmdata.txt ', sep='\\t', index=False)\n",
    "print('DONE!')"
   ]
  }
 ],
 "metadata": {
  "kernelspec": {
   "display_name": "Python 3",
   "language": "python",
   "name": "python3"
  },
  "language_info": {
   "codemirror_mode": {
    "name": "ipython",
    "version": 3
   },
   "file_extension": ".py",
   "mimetype": "text/x-python",
   "name": "python",
   "nbconvert_exporter": "python",
   "pygments_lexer": "ipython3",
   "version": "3.8.8"
  }
 },
 "nbformat": 4,
 "nbformat_minor": 5
}
