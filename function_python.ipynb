{
 "cells": [
  {
   "cell_type": "code",
   "execution_count": null,
   "source": [],
   "outputs": [],
   "metadata": {}
  },
  {
   "cell_type": "code",
   "execution_count": 4,
   "source": [
    "# function : block of lines which perform the specific task \r\n",
    "\r\n",
    "lst = [23, 56, 97, 34, 90, 95]\r\n",
    "\r\n",
    "mx = max(lst)\r\n",
    "mn = min(lst)\r\n",
    "\r\n",
    "# mx = lst[0]\r\n",
    "\r\n",
    "# for i in lst:\r\n",
    "#     if i > mx:\r\n",
    "#         mx = i\r\n",
    "\r\n",
    "print(f\"The maximum marks in this collection is {mx} and minimum marks {mn}\")"
   ],
   "outputs": [
    {
     "output_type": "stream",
     "name": "stdout",
     "text": [
      "The maximum marks in this collection is 97 and minimum marks 23\n"
     ]
    }
   ],
   "metadata": {}
  },
  {
   "cell_type": "code",
   "execution_count": 10,
   "source": [
    "# udf: user define function in Python \r\n",
    "\r\n",
    "# Find the Number of Vowels, Consonants, Digits and White space in a String\r\n",
    "\r\n",
    "def vowels_count(x):  # x = st\r\n",
    "    # main logic \r\n",
    "    count = 0\r\n",
    "    for i in x:\r\n",
    "        if i in 'aeiou':\r\n",
    "            count += 1\r\n",
    "    return count\r\n",
    "\r\n",
    "def digit_count(x):\r\n",
    "    count = 0\r\n",
    "    for i in x:\r\n",
    "        if '0' <= i <= '9':\r\n",
    "            count += 1\r\n",
    "    return count\r\n",
    "\r\n",
    "def consonants_count(x):\r\n",
    "    # main logic\r\n",
    "    count = 0\r\n",
    "    for i in x:\r\n",
    "        i = i.lower()\r\n",
    "        if i not in 'aeiou' and 'a' <= i <= 'z':\r\n",
    "            count += 1\r\n",
    "    return count         \r\n",
    "\r\n",
    "\r\n",
    "\r\n",
    "\r\n",
    "st = input(\"Enter the string \")\r\n",
    "vow = vowels_count(st)\r\n",
    "dg = digit_count(st)\r\n",
    "cg = consonants_count(st)\r\n",
    "print(f\"Number of vowels is: {vow}\\nNumber of digits: {dg}\\nconsonants count: {cg}\\nstring:- {st}\")"
   ],
   "outputs": [
    {
     "output_type": "stream",
     "name": "stdout",
     "text": [
      "Number of vowels is: 2\n",
      "Number of digits: 2\n",
      "consonants count: 3\n",
      "string:- abcde@12\n"
     ]
    }
   ],
   "metadata": {}
  },
  {
   "cell_type": "code",
   "execution_count": 25,
   "source": [
    "# type of arguments in function calling \r\n",
    "\r\n",
    "# positional arguments \r\n",
    "def add(a, b):  # formal arguments \r\n",
    "    # a = x1, b = x2\r\n",
    "    return a + b\r\n",
    "\r\n",
    "\r\n",
    "x1 = 12\r\n",
    "x2 = 34\r\n",
    "out = add(x1, 100)  # function calling\r\n",
    "print(f\"Result is {out}\")\r\n",
    "\r\n",
    "\r\n",
    "\r\n"
   ],
   "outputs": [
    {
     "output_type": "stream",
     "name": "stdout",
     "text": [
      "Result is 112\n"
     ]
    }
   ],
   "metadata": {}
  },
  {
   "cell_type": "code",
   "execution_count": 26,
   "source": [
    "# keyword arguments \r\n",
    "\r\n",
    "def add(a, b):  # formal arguments \r\n",
    "    # a = x1, b = x2\r\n",
    "    return 3*a + 5*b + a*b\r\n",
    "\r\n",
    "\r\n",
    "x1 = 12\r\n",
    "x2 = 34\r\n",
    "out = add(a = x2, b = x1)  # function calling\r\n",
    "print(f\"Result is {out}\")"
   ],
   "outputs": [
    {
     "output_type": "stream",
     "name": "stdout",
     "text": [
      "Result is 570\n"
     ]
    }
   ],
   "metadata": {}
  },
  {
   "cell_type": "code",
   "execution_count": 27,
   "source": [
    "# default arguments \r\n",
    "def add(a=0, b=0):  # formal arguments \r\n",
    "    # a = x1, b = x2\r\n",
    "    return a + b\r\n",
    "\r\n",
    "\r\n",
    "x1 = 12\r\n",
    "x2 = 34\r\n",
    "out = add(x1, x2)  # function calling\r\n",
    "print(f\"Result is {out}\")"
   ],
   "outputs": [
    {
     "output_type": "stream",
     "name": "stdout",
     "text": [
      "Result is 46\n"
     ]
    }
   ],
   "metadata": {}
  },
  {
   "cell_type": "code",
   "execution_count": 29,
   "source": [
    "\"\"\"\r\n",
    "Write a function to find factorial of a number but also store the \r\n",
    "factorials calculated in a dictionary\r\n",
    "\"\"\"\r\n",
    "def factorial(n):\r\n",
    "    f = 1\r\n",
    "    for i in range(1, n+1):\r\n",
    "        f *= i\r\n",
    "    return f\r\n",
    "num = int(input(\"Enter the positive Integer number \"))\r\n",
    "fact = factorial(num)\r\n",
    "dct = {num:fact}\r\n",
    "print(f\"Factorial of given number is {fact}\\n{dct}\")\r\n"
   ],
   "outputs": [
    {
     "output_type": "stream",
     "name": "stdout",
     "text": [
      "Factorial of given number is 24\n",
      "{4: 24}\n"
     ]
    }
   ],
   "metadata": {}
  }
 ],
 "metadata": {
  "orig_nbformat": 4,
  "language_info": {
   "name": "python",
   "version": "3.7.2",
   "mimetype": "text/x-python",
   "codemirror_mode": {
    "name": "ipython",
    "version": 3
   },
   "pygments_lexer": "ipython3",
   "nbconvert_exporter": "python",
   "file_extension": ".py"
  },
  "kernelspec": {
   "name": "python3",
   "display_name": "Python 3.7.2 32-bit"
  },
  "interpreter": {
   "hash": "8786318122129ba10eb40c9c8a2ede770fe6a9df50dfcd3c6edc33520e4c5279"
  }
 },
 "nbformat": 4,
 "nbformat_minor": 2
}